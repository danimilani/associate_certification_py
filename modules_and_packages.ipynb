{
 "cells": [
  {
   "cell_type": "markdown",
   "id": "6c27c6fb",
   "metadata": {},
   "source": [
    "# Modules and Packages"
   ]
  },
  {
   "cell_type": "markdown",
   "id": "180fbc57",
   "metadata": {},
   "source": [
    "## Creating and Using Python Modules"
   ]
  },
  {
   "cell_type": "markdown",
   "id": "dbb76210",
   "metadata": {},
   "source": [
    "Modules in Python are just files and it can be imported."
   ]
  },
  {
   "cell_type": "code",
   "execution_count": 4,
   "id": "a8272ae5",
   "metadata": {},
   "outputs": [],
   "source": [
    "# Function return a list of all of the upper case letters in a phrase\n",
    "\n",
    "def extract_upper(phrase):\n",
    "    return list(filter(str.isupper,phrase))\n",
    "\n",
    "def extract_lower(phrase):\n",
    "    return list(filter(str.islower,phrase))"
   ]
  },
  {
   "cell_type": "markdown",
   "id": "d00186dc",
   "metadata": {},
   "source": [
    "If you create another file with your script, you can access these functions by importing them:"
   ]
  },
  {
   "cell_type": "markdown",
   "id": "55eb6d7f",
   "metadata": {},
   "source": [
    "In example, functions above were saved in a file called \"helpers.py\"\n",
    "\n",
    "You can use the code: import helpers to import them\n",
    "\n",
    "The final code will look like this:"
   ]
  },
  {
   "cell_type": "code",
   "execution_count": null,
   "id": "f5369ed5",
   "metadata": {},
   "outputs": [],
   "source": [
    "# pulls the entire module and you can access anything on the module by the name of the module\n",
    "\n",
    "import helpers\n",
    "\n",
    "name = \"Keith Thompson\"\n",
    "print(f\"Lowercase Letters: {helpers.extract_lower(name)}\")\n",
    "print(f\"Uppercase Letters: {helpers.extract_upper(name)}\")"
   ]
  },
  {
   "cell_type": "markdown",
   "id": "6a7ef4ca",
   "metadata": {},
   "source": [
    "## Importing Modules"
   ]
  },
  {
   "cell_type": "markdown",
   "id": "909dcdd8",
   "metadata": {},
   "source": [
    "If the name of the module would conflict to a variable name in the code, you can change the name while you are importing it, giving an alternative name."
   ]
  },
  {
   "cell_type": "code",
   "execution_count": null,
   "id": "95953bf9",
   "metadata": {},
   "outputs": [],
   "source": [
    "import helpers as h\n",
    "\n",
    "name = \"Keith Thompson\"\n",
    "print(f\"Lowercase Letters: {h.extract_lower(name)}\")\n",
    "print(f\"Uppercase Letters: {h.extract_upper(name)}\")"
   ]
  },
  {
   "cell_type": "markdown",
   "id": "d351e5a2",
   "metadata": {},
   "source": [
    "However, the most common way to import it is the below, which allows you to import specific things of the module that you want and then you can call them directly:"
   ]
  },
  {
   "cell_type": "code",
   "execution_count": null,
   "id": "2d78561d",
   "metadata": {},
   "outputs": [],
   "source": [
    "from helpers import extract_lower, extract_upper\n",
    "\n",
    "name = \"Keith Thompson\"\n",
    "print(f\"Lowercase Letters: {extract_lower(name)}\")\n",
    "print(f\"Uppercase Letters: {extract_upper(name)}\")"
   ]
  },
  {
   "cell_type": "markdown",
   "id": "a8114866",
   "metadata": {},
   "source": [
    "And you can do the same, but using alternative names:"
   ]
  },
  {
   "cell_type": "code",
   "execution_count": null,
   "id": "49beb021",
   "metadata": {},
   "outputs": [],
   "source": [
    "from helpers import extract_lower as e_low, extract_upper as e_up\n",
    "\n",
    "name = \"Keith Thompson\"\n",
    "print(f\"Lowercase Letters: {e_low.extract_lower(name)}\")\n",
    "print(f\"Uppercase Letters: {e_up.extract_upper(name)}\")"
   ]
  },
  {
   "cell_type": "markdown",
   "id": "f1dba7d1",
   "metadata": {},
   "source": [
    "Importing legitimately everything from inside a module:"
   ]
  },
  {
   "cell_type": "code",
   "execution_count": null,
   "id": "df067adb",
   "metadata": {},
   "outputs": [],
   "source": [
    "from helpers import *\n",
    "\n",
    "name = \"Keith Thompson\"\n",
    "print(f\"Lowercase Letters: {extract_lower(name)}\")\n",
    "print(f\"Uppercase Letters: {extract_upper(name)}\")"
   ]
  },
  {
   "cell_type": "markdown",
   "id": "40b07e58",
   "metadata": {},
   "source": [
    "## Executing Modules as Scripts"
   ]
  },
  {
   "cell_type": "markdown",
   "id": "a7c29751",
   "metadata": {},
   "source": [
    "If you import a module twice, it doesn't need to be reread because it's already been read into your application and the interpreter already has it in the memory."
   ]
  },
  {
   "cell_type": "markdown",
   "id": "82d7a7c3",
   "metadata": {},
   "source": [
    "To skip a piece of code in the module, you can do so by:"
   ]
  },
  {
   "cell_type": "markdown",
   "id": "b8fa4f2f",
   "metadata": {},
   "source": [
    "In file \"helpers.py\":"
   ]
  },
  {
   "cell_type": "code",
   "execution_count": null,
   "id": "a6edace9",
   "metadata": {},
   "outputs": [],
   "source": [
    "if __name__ == \"__main__\":\n",
    "    print(\"HELLO FROM HELPERS\")"
   ]
  },
  {
   "cell_type": "markdown",
   "id": "c348b4c2",
   "metadata": {},
   "source": [
    "This is what you can leverage to add a different mode to the modules: you can define in the context of this being run as a script, then do these extra things or do this code only in this situation."
   ]
  },
  {
   "cell_type": "markdown",
   "id": "dc9cedae",
   "metadata": {},
   "source": [
    "In this scenario, this will ensure that \"HELLO FROM HELPERS\" only runs if we're running helpers file directly."
   ]
  },
  {
   "cell_type": "markdown",
   "id": "54cacc16",
   "metadata": {},
   "source": [
    "## Hiding Module Entities "
   ]
  },
  {
   "cell_type": "markdown",
   "id": "2ea6a578",
   "metadata": {},
   "source": [
    "How can we go about not exposing everything inside of the module?"
   ]
  },
  {
   "cell_type": "markdown",
   "id": "38ac5a74",
   "metadata": {},
   "source": [
    "Basically everything inside of a module is accessible outside of the module if you know its name, but there are a few exceptions."
   ]
  },
  {
   "cell_type": "markdown",
   "id": "658ef1fc",
   "metadata": {},
   "source": [
    "From \"from xxx import *\", there is a way we can manipulate only this type of import."
   ]
  },
  {
   "cell_type": "markdown",
   "id": "2a12e03e",
   "metadata": {},
   "source": [
    "Inside of the module that will be imported, you can write the following. Basically you're setting a list of strings to make available when somebody goes and imports all from your module:"
   ]
  },
  {
   "cell_type": "code",
   "execution_count": null,
   "id": "cf3fc9e4",
   "metadata": {},
   "outputs": [],
   "source": [
    "__all__ = ['extract_upper']"
   ]
  },
  {
   "cell_type": "markdown",
   "id": "14f81c33",
   "metadata": {},
   "source": [
    "That means that the other entities inside the module won't be available anymore."
   ]
  },
  {
   "cell_type": "markdown",
   "id": "7e20d5e8",
   "metadata": {},
   "source": [
    "If the person runs the code and tries to run the other entity, they will receive the error message:"
   ]
  },
  {
   "cell_type": "code",
   "execution_count": null,
   "id": "2dbacd49",
   "metadata": {},
   "outputs": [],
   "source": [
    "NameError: name 'extract_lower' is not defined"
   ]
  },
  {
   "cell_type": "markdown",
   "id": "4c5099bf",
   "metadata": {},
   "source": [
    "If we want this to work, we need to import the entity from the module directly:"
   ]
  },
  {
   "cell_type": "code",
   "execution_count": null,
   "id": "323121f4",
   "metadata": {},
   "outputs": [],
   "source": [
    "from helpers import extract_lower"
   ]
  },
  {
   "cell_type": "markdown",
   "id": "c597f5c2",
   "metadata": {},
   "source": [
    "This will allow you to fix the script."
   ]
  },
  {
   "cell_type": "markdown",
   "id": "1ba5833e",
   "metadata": {},
   "source": [
    "Another way to \"hide\" an entity, making it a \"private entity\", is by adding an underscore in front of its name, as per below in \"extract_upper\":"
   ]
  },
  {
   "cell_type": "code",
   "execution_count": null,
   "id": "51f5e8f0",
   "metadata": {},
   "outputs": [],
   "source": [
    "# Function return a list of all of the upper case letters in a phrase\n",
    "\n",
    "def _extract_upper(phrase):\n",
    "    return list(filter(str.isupper,phrase))\n",
    "\n",
    "def extract_lower(phrase):\n",
    "    return list(filter(str.islower,phrase))"
   ]
  },
  {
   "cell_type": "markdown",
   "id": "db5b7549",
   "metadata": {},
   "source": [
    "By default, if somebody runs \"from xxx import *\", they should not have access to it. But the same bypass as above, importing exclusively the entity, also applies here:"
   ]
  },
  {
   "cell_type": "code",
   "execution_count": null,
   "id": "a01acdaf",
   "metadata": {},
   "outputs": [],
   "source": [
    "from helpers import *\n",
    "from helpers import _extract_upper"
   ]
  },
  {
   "cell_type": "markdown",
   "id": "86843f53",
   "metadata": {},
   "source": [
    "The entity will be imported."
   ]
  },
  {
   "cell_type": "markdown",
   "id": "942f5002",
   "metadata": {},
   "source": [
    "## The Module Search Path "
   ]
  },
  {
   "cell_type": "markdown",
   "id": "1d977f81",
   "metadata": {},
   "source": [
    "Three important things:\n",
    "\n",
    "1. We can import things from the directory we are at\n",
    "\n",
    "2. If a Python path environment variable is set before running Python, you can add some more directories to the list of directories you need to be able to access\n",
    "\n",
    "3. There are a bunch of directories that your Python installation knows about that include the various modules and packages that you need to have access to"
   ]
  },
  {
   "cell_type": "code",
   "execution_count": 9,
   "id": "834f6edb",
   "metadata": {},
   "outputs": [
    {
     "data": {
      "text/plain": [
       "['C:\\\\Users\\\\Dani\\\\Documents\\\\Python_Certification',\n",
       " 'C:\\\\Users\\\\Dani\\\\anaconda3\\\\python39.zip',\n",
       " 'C:\\\\Users\\\\Dani\\\\anaconda3\\\\DLLs',\n",
       " 'C:\\\\Users\\\\Dani\\\\anaconda3\\\\lib',\n",
       " 'C:\\\\Users\\\\Dani\\\\anaconda3',\n",
       " '',\n",
       " 'C:\\\\Users\\\\Dani\\\\anaconda3\\\\lib\\\\site-packages',\n",
       " 'C:\\\\Users\\\\Dani\\\\anaconda3\\\\lib\\\\site-packages\\\\locket-0.2.1-py3.9.egg',\n",
       " 'C:\\\\Users\\\\Dani\\\\anaconda3\\\\lib\\\\site-packages\\\\win32',\n",
       " 'C:\\\\Users\\\\Dani\\\\anaconda3\\\\lib\\\\site-packages\\\\win32\\\\lib',\n",
       " 'C:\\\\Users\\\\Dani\\\\anaconda3\\\\lib\\\\site-packages\\\\Pythonwin',\n",
       " 'C:\\\\Users\\\\Dani\\\\anaconda3\\\\lib\\\\site-packages\\\\IPython\\\\extensions',\n",
       " 'C:\\\\Users\\\\Dani\\\\.ipython']"
      ]
     },
     "execution_count": 9,
     "metadata": {},
     "output_type": "execute_result"
    }
   ],
   "source": [
    "import sys\n",
    "\n",
    "sys.path #gives the list of directories"
   ]
  },
  {
   "cell_type": "markdown",
   "id": "c1f0c411",
   "metadata": {},
   "source": [
    "3rd party packages go into \"site-packages\" and when we import, it's gonna search through the directories in this order."
   ]
  },
  {
   "cell_type": "markdown",
   "id": "f465ccc6",
   "metadata": {},
   "source": [
    "## Creating and Using Python Packages "
   ]
  },
  {
   "cell_type": "markdown",
   "id": "c99a29cf",
   "metadata": {},
   "source": [
    "We don't share modules, packages allow us to bundle up our modules into something we can distribute to others."
   ]
  },
  {
   "cell_type": "markdown",
   "id": "97d688f5",
   "metadata": {},
   "source": [
    "A PACKAGE is a directory that includes an \"__init__.py\" inside of it. From there, we can create modules within there."
   ]
  },
  {
   "cell_type": "markdown",
   "id": "d2a6875a",
   "metadata": {},
   "source": [
    "## Docstrings, Doctests, and Shebangs"
   ]
  },
  {
   "cell_type": "markdown",
   "id": "05ec24c8",
   "metadata": {},
   "source": [
    "### Docstrings "
   ]
  },
  {
   "cell_type": "markdown",
   "id": "718a2e49",
   "metadata": {},
   "source": [
    "When you're working with code and you need to document it, you leave a comment. Docstrings is built-in in Python used to document your entire package.\n",
    "\n",
    "They are triple quoted strings that we put on the top of modules, packages inside of functions or even inside of classes and they allow us to detail what exactly is going on in those bits of code. \n",
    "\n",
    "The interpreter will going to assign this into a hidden variable in that object."
   ]
  },
  {
   "cell_type": "markdown",
   "id": "e3126094",
   "metadata": {},
   "source": [
    "In your __init__.py file you can write:"
   ]
  },
  {
   "cell_type": "code",
   "execution_count": 2,
   "id": "1931f3f0",
   "metadata": {},
   "outputs": [
    {
     "data": {
      "text/plain": [
       "'\\nHelpers is a package that provides easy to use helper functions and variables.\\n'"
      ]
     },
     "execution_count": 2,
     "metadata": {},
     "output_type": "execute_result"
    }
   ],
   "source": [
    "\"\"\"\n",
    "Helpers is a package that provides easy to use helper functions and variables.\n",
    "\"\"\" #this is a docstring\n",
    "\n",
    "__all__ = ['extract_upper']\n",
    "\n",
    "from .strings import *"
   ]
  },
  {
   "cell_type": "markdown",
   "id": "3b77d61d",
   "metadata": {},
   "source": [
    "When Python reads a Docstring it does something with this: it allocates space and memory and puts a string value in there. It also adds it as an attribute in the package so we can access the documentation when we are interacting with the package from the REPL."
   ]
  },
  {
   "cell_type": "markdown",
   "id": "6427ee2f",
   "metadata": {},
   "source": [
    "To run it, you need to write on the Terminal:"
   ]
  },
  {
   "cell_type": "code",
   "execution_count": null,
   "id": "a18facdf",
   "metadata": {},
   "outputs": [],
   "source": [
    "import helpers\n",
    "helpers.__doc__"
   ]
  },
  {
   "cell_type": "markdown",
   "id": "db93d69c",
   "metadata": {},
   "source": [
    "### Doctests"
   ]
  },
  {
   "cell_type": "markdown",
   "id": "13226a1e",
   "metadata": {},
   "source": [
    "Inside of a docstring, if you add what looks to be REPL code (the >>> part), it will go and execute these lines and it will ensure that the next line or the return value here matches what is actually returned when this code is executed.\n",
    "\n",
    "If it's not, it will give you an error when you run the Doctest."
   ]
  },
  {
   "cell_type": "code",
   "execution_count": 4,
   "id": "b33a40e1",
   "metadata": {},
   "outputs": [],
   "source": [
    "def extract_upper(phrase):\n",
    "    \"\"\"\n",
    "    extract_upper takes a string and returns a list containing only the uppercase\n",
    "    characters from the string.\n",
    "    \n",
    "    >>> extract_upper(\"Hello There, BOB\")\n",
    "    ['H', 'T', 'B', 'O','']\n",
    "    \"\"\"\n",
    "    return list(filter(str.isupper,phrase))"
   ]
  },
  {
   "cell_type": "markdown",
   "id": "b31e1dd9",
   "metadata": {},
   "source": [
    "On the terminal, you should run:"
   ]
  },
  {
   "cell_type": "code",
   "execution_count": null,
   "id": "d8508eb5",
   "metadata": {},
   "outputs": [],
   "source": [
    "python3.7 -m doctest src/helpers/strings.py"
   ]
  },
  {
   "cell_type": "markdown",
   "id": "49b17297",
   "metadata": {},
   "source": [
    "And then it will return if it's matching or not."
   ]
  },
  {
   "cell_type": "markdown",
   "id": "a235409f",
   "metadata": {},
   "source": [
    "### Shebangs "
   ]
  },
  {
   "cell_type": "markdown",
   "id": "660c7a17",
   "metadata": {},
   "source": [
    "We can specify what happens when a script is run in Python. We can make sure it runs using Python.\n",
    "\n",
    "To do that, we need to setup a Shebang. You can set it up using a comment with a dollar sign and whatever command you need to run that would read the file."
   ]
  },
  {
   "cell_type": "code",
   "execution_count": 5,
   "id": "9e3ef0df",
   "metadata": {},
   "outputs": [],
   "source": [
    "#!/usr/bin/env python"
   ]
  },
  {
   "cell_type": "code",
   "execution_count": null,
   "id": "047e2f61",
   "metadata": {},
   "outputs": [],
   "source": []
  }
 ],
 "metadata": {
  "kernelspec": {
   "display_name": "Python 3 (ipykernel)",
   "language": "python",
   "name": "python3"
  },
  "language_info": {
   "codemirror_mode": {
    "name": "ipython",
    "version": 3
   },
   "file_extension": ".py",
   "mimetype": "text/x-python",
   "name": "python",
   "nbconvert_exporter": "python",
   "pygments_lexer": "ipython3",
   "version": "3.9.7"
  }
 },
 "nbformat": 4,
 "nbformat_minor": 5
}

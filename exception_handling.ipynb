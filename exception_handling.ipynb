{
 "cells": [
  {
   "cell_type": "markdown",
   "id": "c6e0ef87",
   "metadata": {},
   "source": [
    "# Exceptions and Exception Handling"
   ]
  },
  {
   "cell_type": "markdown",
   "id": "4bf15433",
   "metadata": {},
   "source": [
    "ERRORs happen before we ever run them:"
   ]
  },
  {
   "cell_type": "markdown",
   "id": "79a679cf",
   "metadata": {},
   "source": [
    "Syntax error - causes the file to never run at all. It's the only error type that is not an exception, this is something that happens before the program ever runs."
   ]
  },
  {
   "cell_type": "code",
   "execution_count": 3,
   "id": "68886cf1",
   "metadata": {},
   "outputs": [
    {
     "ename": "SyntaxError",
     "evalue": "EOL while scanning string literal (Temp/ipykernel_11520/1698472767.py, line 2)",
     "output_type": "error",
     "traceback": [
      "\u001b[1;36m  File \u001b[1;32m\"C:\\Users\\Dani\\AppData\\Local\\Temp/ipykernel_11520/1698472767.py\"\u001b[1;36m, line \u001b[1;32m2\u001b[0m\n\u001b[1;33m    'a\u001b[0m\n\u001b[1;37m      ^\u001b[0m\n\u001b[1;31mSyntaxError\u001b[0m\u001b[1;31m:\u001b[0m EOL while scanning string literal\n"
     ]
    }
   ],
   "source": [
    "print('something')\n",
    "'a"
   ]
  },
  {
   "cell_type": "markdown",
   "id": "97ef65d0",
   "metadata": {},
   "source": [
    "EXCEPTIONs happen at runtime:"
   ]
  },
  {
   "cell_type": "markdown",
   "id": "bc583f4e",
   "metadata": {},
   "source": [
    "Type error - is the exception type. They happen in certain situations where you try to perform an operation with types that make no sense."
   ]
  },
  {
   "cell_type": "code",
   "execution_count": 4,
   "id": "be1488e0",
   "metadata": {},
   "outputs": [
    {
     "ename": "TypeError",
     "evalue": "unsupported operand type(s) for +: 'int' and 'str'",
     "output_type": "error",
     "traceback": [
      "\u001b[1;31m---------------------------------------------------------------------------\u001b[0m",
      "\u001b[1;31mTypeError\u001b[0m                                 Traceback (most recent call last)",
      "\u001b[1;32m~\\AppData\\Local\\Temp/ipykernel_11520/1332625590.py\u001b[0m in \u001b[0;36m<module>\u001b[1;34m\u001b[0m\n\u001b[1;32m----> 1\u001b[1;33m \u001b[1;36m1\u001b[0m\u001b[1;33m+\u001b[0m\u001b[1;34m'a'\u001b[0m\u001b[1;33m\u001b[0m\u001b[1;33m\u001b[0m\u001b[0m\n\u001b[0m",
      "\u001b[1;31mTypeError\u001b[0m: unsupported operand type(s) for +: 'int' and 'str'"
     ]
    }
   ],
   "source": [
    "1+'a'"
   ]
  },
  {
   "cell_type": "markdown",
   "id": "54aa9903",
   "metadata": {},
   "source": [
    "## Handling Exceptions with `try`, `except`, `else`, and `finally` "
   ]
  },
  {
   "cell_type": "code",
   "execution_count": 11,
   "id": "6c3de6e1",
   "metadata": {},
   "outputs": [
    {
     "name": "stdout",
     "output_type": "stream",
     "text": [
      "First argument -f\n",
      "Random argument C:\\Users\\Dani\\anaconda3\\lib\\site-packages\\ipykernel_launcher.py\n",
      "else is running\n",
      "finally is running\n"
     ]
    }
   ],
   "source": [
    "import sys\n",
    "import random\n",
    "\n",
    "try: #main block we think could potentially go wrong\n",
    "    print(f\"First argument {sys.argv[1]}\")\n",
    "    args = sys.argv\n",
    "    random.shuffle(args)\n",
    "    print(f\"Random argument {args[0]}\")\n",
    "except IndexError as err: #each except block is supposed to handle that exception\n",
    "    print(f\"Error: no arguments, please provide at least one ({err})\")\n",
    "except NameError:\n",
    "    print(f\"Error: random module not loaded\")\n",
    "else: # its going to run if there was no exception caught\n",
    "    print(\"else is running\")\n",
    "finally: # always happen as long as the script is running, runs at the end of the entire try statement\n",
    "    print(\"finally is running\") "
   ]
  },
  {
   "cell_type": "code",
   "execution_count": 13,
   "id": "021dd82f",
   "metadata": {},
   "outputs": [
    {
     "data": {
      "text/plain": [
       "[TypeError,\n",
       " StopAsyncIteration,\n",
       " StopIteration,\n",
       " ImportError,\n",
       " OSError,\n",
       " EOFError,\n",
       " RuntimeError,\n",
       " NameError,\n",
       " AttributeError,\n",
       " SyntaxError,\n",
       " LookupError,\n",
       " ValueError,\n",
       " AssertionError,\n",
       " ArithmeticError,\n",
       " SystemError,\n",
       " ReferenceError,\n",
       " MemoryError,\n",
       " BufferError,\n",
       " Warning,\n",
       " locale.Error,\n",
       " warnings._OptionError,\n",
       " re.error,\n",
       " sre_parse.Verbose,\n",
       " runpy._Error,\n",
       " subprocess.SubprocessError,\n",
       " socket._GiveupOnSendfile,\n",
       " zlib.error,\n",
       " _lzma.LZMAError,\n",
       " shutil.RegistryError,\n",
       " shutil._GiveupOnFastCopy,\n",
       " zmq.error.ZMQBaseError,\n",
       " copy.Error,\n",
       " struct.error,\n",
       " _pickle.PickleError,\n",
       " pickle._Stop,\n",
       " tokenize.TokenError,\n",
       " tokenize.StopTokenizing,\n",
       " inspect.ClassFoundException,\n",
       " inspect.EndOfBlock,\n",
       " traitlets.traitlets.TraitError,\n",
       " argparse.ArgumentError,\n",
       " argparse.ArgumentTypeError,\n",
       " traitlets.config.loader.ConfigError,\n",
       " traitlets.config.configurable.ConfigurableError,\n",
       " traitlets.config.application.ApplicationError,\n",
       " jupyter_client.localinterfaces.NoIPAddresses,\n",
       " concurrent.futures._base.Error,\n",
       " binascii.Incomplete,\n",
       " asyncio.exceptions.TimeoutError,\n",
       " asyncio.exceptions.InvalidStateError,\n",
       " asyncio.exceptions.LimitOverrunError,\n",
       " asyncio.queues.QueueEmpty,\n",
       " asyncio.queues.QueueFull,\n",
       " jupyter_client.channels.InvalidPortNumber,\n",
       " _queue.Empty,\n",
       " queue.Full,\n",
       " jupyter_client.multikernelmanager.DuplicateKernelError,\n",
       " _ctypes.COMError,\n",
       " ctypes.ArgumentError,\n",
       " tornado.concurrent.ReturnValueIgnoredError,\n",
       " tornado.gen.KeyReuseError,\n",
       " tornado.gen.UnknownKeyError,\n",
       " tornado.gen.LeakedCallbackError,\n",
       " tornado.gen.BadYieldError,\n",
       " tornado.gen.ReturnValueIgnoredError,\n",
       " tornado.gen.Return,\n",
       " pydoc.ErrorDuringImport,\n",
       " bdb.BdbQuit,\n",
       " pdb.Restart,\n",
       " IPython.utils.process.FindCmdError,\n",
       " IPython.utils.path.HomeDirError,\n",
       " IPython.core.profiledir.ProfileDirError,\n",
       " IPython.core.error.IPythonCoreError,\n",
       " IPython.core.error.InputRejected,\n",
       " getopt.GetoptError,\n",
       " pygments.util.OptionError,\n",
       " pygments.filters.ErrorToken,\n",
       " IPython.core.prefilter.PrefilterError,\n",
       " IPython.core.alias.AliasError,\n",
       " sqlite3.Error,\n",
       " sqlite3.Warning,\n",
       " IPython.core.interactiveshell.SpaceInInput,\n",
       " xml.dom.DOMException,\n",
       " prompt_toolkit.validation.ValidationError,\n",
       " prompt_toolkit.buffer.EditReadOnlyBuffer,\n",
       " prompt_toolkit.buffer._Retry,\n",
       " prompt_toolkit.layout.layout.InvalidLayoutError,\n",
       " prompt_toolkit.renderer.HeightIsUnknownError,\n",
       " parso.parser.ParserSyntaxError,\n",
       " parso.parser.InternalParseError,\n",
       " parso.python.diff._PositionUpdatingFinished,\n",
       " jedi.inference.helpers.SimpleGetItemNotFound,\n",
       " jedi.inference.utils.UncaughtAttributeError,\n",
       " jedi.inference.arguments.ParamIssue,\n",
       " jedi.api.exceptions._JediError,\n",
       " jedi.api.helpers.OnErrorLeaf,\n",
       " jedi.api.environment.InvalidPythonEnvironment,\n",
       " email.errors.MessageError,\n",
       " uu.Error,\n",
       " http.client.HTTPException,\n",
       " IPython.core.magics.code.InteractivelyDefined,\n",
       " IPython.terminal.embed.KillEmbedded,\n",
       " tornado.queues.QueueEmpty,\n",
       " tornado.queues.QueueFull,\n",
       " xml.parsers.expat.ExpatError,\n",
       " xmlrpc.client.Error,\n",
       " zipfile.BadZipFile,\n",
       " zipfile.LargeZipFile,\n",
       " pywintypes.error,\n",
       " pywintypes.com_error,\n",
       " pythoncom.internal_error,\n",
       " pkg_resources._vendor.pyparsing.ParseBaseException,\n",
       " pkg_resources._vendor.pyparsing.RecursiveGrammarException,\n",
       " pkg_resources.ResolutionError,\n",
       " _pydevd_bundle.pydevd_resolver.UnableToResolveVariableException,\n",
       " _pydev_bundle.pydev_monkey.InvalidTypeInArgsException]"
      ]
     },
     "execution_count": 13,
     "metadata": {},
     "output_type": "execute_result"
    }
   ],
   "source": [
    "Exception.__subclasses__()"
   ]
  },
  {
   "cell_type": "code",
   "execution_count": 14,
   "id": "e2290ae5",
   "metadata": {},
   "outputs": [
    {
     "data": {
      "text/plain": [
       "(LookupError,)"
      ]
     },
     "execution_count": 14,
     "metadata": {},
     "output_type": "execute_result"
    }
   ],
   "source": [
    "IndexError.__bases__"
   ]
  },
  {
   "cell_type": "markdown",
   "id": "b62f284e",
   "metadata": {},
   "source": [
    "## Raising an Exception"
   ]
  },
  {
   "cell_type": "code",
   "execution_count": 15,
   "id": "abf4801e",
   "metadata": {},
   "outputs": [
    {
     "name": "stdout",
     "output_type": "stream",
     "text": [
      "Name is C:\\Users\\Dani\\AppData\\Roaming\\jupyter\\runtime\\kernel-8d65dbd1-9436-48b9-be5e-3d2ecef98f9c.json\n"
     ]
    }
   ],
   "source": [
    "import sys\n",
    "\n",
    "if len(sys.argv) < 2:\n",
    "    raise Exception('not enough arguments')\n",
    "\n",
    "name = sys.argv[1]\n",
    "print(f'Name is {name}')"
   ]
  },
  {
   "cell_type": "markdown",
   "id": "004b9487",
   "metadata": {},
   "source": [
    "## Creating Custom Exception Types"
   ]
  },
  {
   "cell_type": "markdown",
   "id": "b16554d7",
   "metadata": {},
   "source": [
    "Create a class in one file (example: errors.py):"
   ]
  },
  {
   "cell_type": "code",
   "execution_count": null,
   "id": "985efaa8",
   "metadata": {},
   "outputs": [],
   "source": [
    "class ArgumentError(Exception):\n",
    "    pass"
   ]
  },
  {
   "cell_type": "markdown",
   "id": "602893c0",
   "metadata": {},
   "source": [
    "Import the class on another file (example: __init__.py_):"
   ]
  },
  {
   "cell_type": "code",
   "execution_count": null,
   "id": "0db9ea50",
   "metadata": {},
   "outputs": [],
   "source": [
    "import sys\n",
    "\n",
    "from .errors import ArgumentError\n",
    "\n",
    "def main():\n",
    "    if len(sys.argv) < 2:\n",
    "        raise ArgumentError(\"too few arguments\")\n",
    "    print(f\"Name is {sys.argv[1]}\")"
   ]
  },
  {
   "cell_type": "markdown",
   "id": "0642d5c0",
   "metadata": {},
   "source": [
    "3rd file: using_exceptions.py:"
   ]
  },
  {
   "cell_type": "code",
   "execution_count": null,
   "id": "43d99388",
   "metadata": {},
   "outputs": [],
   "source": [
    "from cli import main\n",
    "from cli.errors import ArgumentError\n",
    "\n",
    "try:\n",
    "    main()\n",
    "except ArgumentError as err:\n",
    "    print(f\"Error: {err}\")\n",
    "    sys.exit(1)"
   ]
  },
  {
   "cell_type": "markdown",
   "id": "760bba94",
   "metadata": {},
   "source": [
    "## Using Assertions "
   ]
  },
  {
   "cell_type": "markdown",
   "id": "abd5aac7",
   "metadata": {},
   "source": [
    "It is a debugging tool. If the expression is passed evaluates to false, it is going to generate an assertion error."
   ]
  },
  {
   "cell_type": "markdown",
   "id": "3163537b",
   "metadata": {},
   "source": [
    "2nd file (example: __init__.py_):"
   ]
  },
  {
   "cell_type": "code",
   "execution_count": null,
   "id": "9c36d194",
   "metadata": {},
   "outputs": [],
   "source": [
    "import sys\n",
    "\n",
    "from .errors import ArgumentError\n",
    "\n",
    "def main():\n",
    "    #if len(sys.argv) < 2:\n",
    "    #   raise ArgumentError(\"too few arguments\")\n",
    "    assert len(sys.argv) >= 2, \"too few arguments\" # true and false\n",
    "    print(f\"Name is {sys.argv[1]}\")"
   ]
  },
  {
   "cell_type": "markdown",
   "id": "5365e71c",
   "metadata": {},
   "source": [
    "3rd file: using_exceptions.py:"
   ]
  },
  {
   "cell_type": "code",
   "execution_count": null,
   "id": "559ddf4e",
   "metadata": {},
   "outputs": [],
   "source": [
    "import sys\n",
    "\n",
    "from cli import main\n",
    "from cli.errors import ArgumentError\n",
    "\n",
    "try:\n",
    "    main()\n",
    "except (ArgumentError, AssertionError) as err:\n",
    "    print(f\"Error: {err}\")\n",
    "    sys.exit(1)"
   ]
  },
  {
   "cell_type": "markdown",
   "id": "a96fdca9",
   "metadata": {},
   "source": [
    "## Exception Arguments"
   ]
  },
  {
   "cell_type": "markdown",
   "id": "11d2095a",
   "metadata": {},
   "source": [
    "File 1 transition_error.py:"
   ]
  },
  {
   "cell_type": "code",
   "execution_count": null,
   "id": "3c72217b",
   "metadata": {},
   "outputs": [],
   "source": [
    "class TransitionError(Exception):\n",
    "    def __init__(self, previous, next_state, message):\n",
    "        self.previous = previous\n",
    "        self.next = next_state\n",
    "        self.message = message"
   ]
  },
  {
   "cell_type": "markdown",
   "id": "0146b6f0",
   "metadata": {},
   "source": [
    "File 2 state_transition.py:"
   ]
  },
  {
   "cell_type": "code",
   "execution_count": null,
   "id": "75eaeb67",
   "metadata": {},
   "outputs": [],
   "source": [
    "from transition_error import TransitionError\n",
    "\n",
    "class StateMachine:\n",
    "    allowed_transitions = {\n",
    "        \"new\": [\"loading\"],\n",
    "        \"loading\": [\"completed\", \"incomplete\"],\n",
    "        \"incomplete\": [],\n",
    "        \"completed\": [\"cancelled\"]\n",
    "    }\n",
    "\n",
    "def __init__(self, state=\"new\"):\n",
    "    self.state = state\n",
    "    \n",
    "def transition(self, new_state):\n",
    "    if new_state.lower() in self.allowed_transitions[self.state]:\n",
    "        self.state = new_state.lower()\n",
    "    else:\n",
    "        raise TransitionError(self.state, new_state, f\"unable to transition from {self.state} to {new_state}\")\n",
    "        \n",
    "if __name__ == \"__main__\":\n",
    "    sm = StateMachine()\n",
    "    try:\n",
    "        sm.transition(\"loading\")\n",
    "        sm.transition(\"cancelled\")\n",
    "    except TransitionError as err:\n",
    "        print(f\"Previous State {err.previous}\")\n",
    "        print(f\"Desired State {err.next}\")\n",
    "        print(err.message)"
   ]
  }
 ],
 "metadata": {
  "kernelspec": {
   "display_name": "Python 3 (ipykernel)",
   "language": "python",
   "name": "python3"
  },
  "language_info": {
   "codemirror_mode": {
    "name": "ipython",
    "version": 3
   },
   "file_extension": ".py",
   "mimetype": "text/x-python",
   "name": "python",
   "nbconvert_exporter": "python",
   "pygments_lexer": "ipython3",
   "version": "3.9.7"
  }
 },
 "nbformat": 4,
 "nbformat_minor": 5
}

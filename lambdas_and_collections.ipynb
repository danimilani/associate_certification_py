{
 "cells": [
  {
   "cell_type": "markdown",
   "id": "cbb700b1",
   "metadata": {},
   "source": [
    "# Lambdas, Closures and Collections"
   ]
  },
  {
   "cell_type": "markdown",
   "id": "a1e6a3fc",
   "metadata": {},
   "source": [
    "### Lambdas"
   ]
  },
  {
   "cell_type": "markdown",
   "id": "1995ae61",
   "metadata": {},
   "source": [
    "Lambdas are anonymous functions (dont have names) where we want to have a repeatable bit of code but its not warranted to create a function for it."
   ]
  },
  {
   "cell_type": "code",
   "execution_count": 3,
   "id": "7bcd70d9",
   "metadata": {},
   "outputs": [
    {
     "data": {
      "text/plain": [
       "400"
      ]
     },
     "execution_count": 3,
     "metadata": {},
     "output_type": "execute_result"
    }
   ],
   "source": [
    "# Normal function\n",
    "\n",
    "def square(num):\n",
    "    return num * num\n",
    "\n",
    "square(20) # =>4\n"
   ]
  },
  {
   "cell_type": "code",
   "execution_count": 6,
   "id": "b2098bfd",
   "metadata": {},
   "outputs": [
    {
     "data": {
      "text/plain": [
       "400"
      ]
     },
     "execution_count": 6,
     "metadata": {},
     "output_type": "execute_result"
    }
   ],
   "source": [
    "# Lambda function\n",
    "\n",
    "square_lambda = lambda num: num * num\n",
    "\n",
    "square_lambda(20)"
   ]
  },
  {
   "cell_type": "markdown",
   "id": "4e7c2560",
   "metadata": {},
   "source": [
    "### Collection Functions"
   ]
  },
  {
   "cell_type": "code",
   "execution_count": 15,
   "id": "31a95360",
   "metadata": {},
   "outputs": [],
   "source": [
    "from functools import reduce"
   ]
  },
  {
   "cell_type": "code",
   "execution_count": 16,
   "id": "8c23f629",
   "metadata": {},
   "outputs": [],
   "source": [
    "# Map"
   ]
  },
  {
   "cell_type": "code",
   "execution_count": 17,
   "id": "b2f59d59",
   "metadata": {},
   "outputs": [],
   "source": [
    "# f(x) = 1 + x\n",
    "\n",
    "# Domain: [1,2] - every possible argument you can give to function\n",
    "# Range: [2,3] - equivalent thing you get back when you use the argument"
   ]
  },
  {
   "cell_type": "code",
   "execution_count": 18,
   "id": "8f15e608",
   "metadata": {},
   "outputs": [
    {
     "name": "stdout",
     "output_type": "stream",
     "text": [
      "[2, 4, 6, 8, 10]\n"
     ]
    }
   ],
   "source": [
    "domain = [1,2,3,4,5]\n",
    "\n",
    "# f(x) = x * 2\n",
    "our_range = map(lambda num: num * 2, domain)\n",
    "print(list(our_range))"
   ]
  },
  {
   "cell_type": "markdown",
   "id": "95be30d7",
   "metadata": {},
   "source": [
    "The result you get is the same length as the argument provided in mapping."
   ]
  },
  {
   "cell_type": "code",
   "execution_count": 19,
   "id": "a0810b8d",
   "metadata": {},
   "outputs": [],
   "source": [
    "# Filter"
   ]
  },
  {
   "cell_type": "code",
   "execution_count": 20,
   "id": "a57a1908",
   "metadata": {},
   "outputs": [
    {
     "name": "stdout",
     "output_type": "stream",
     "text": [
      "[2, 4]\n"
     ]
    }
   ],
   "source": [
    "# To filter only the true values\n",
    "\n",
    "evens = filter(lambda num: num % 2 == 0, domain)\n",
    "print(list(evens))"
   ]
  },
  {
   "cell_type": "code",
   "execution_count": 21,
   "id": "9fc7c65d",
   "metadata": {},
   "outputs": [],
   "source": [
    "# Reduce"
   ]
  },
  {
   "cell_type": "code",
   "execution_count": 22,
   "id": "9c7f7d24",
   "metadata": {},
   "outputs": [
    {
     "name": "stdout",
     "output_type": "stream",
     "text": [
      "15\n"
     ]
    }
   ],
   "source": [
    "# Reducing an iterable down to one thing. It sums up all the items in the list.\n",
    "# You need to import \"from functools import reduce\" for this to work.\n",
    "\n",
    "the_sum = reduce(lambda acc, num: acc + num, domain, 0)\n",
    "print(the_sum)"
   ]
  },
  {
   "cell_type": "code",
   "execution_count": 23,
   "id": "8e171ccc",
   "metadata": {},
   "outputs": [],
   "source": [
    "# Sort"
   ]
  },
  {
   "cell_type": "code",
   "execution_count": 24,
   "id": "e8044f7e",
   "metadata": {},
   "outputs": [
    {
     "name": "stdout",
     "output_type": "stream",
     "text": [
      "Sorting by Default\n",
      "['Alfred', 'Boss', 'Daemon', 'a', 'dig', 'fig']\n"
     ]
    }
   ],
   "source": [
    "words = ['Boss', 'a', 'Alfred', 'fig', 'Daemon', 'dig']\n",
    "print(\"Sorting by Default\")\n",
    "print(sorted(words))"
   ]
  },
  {
   "cell_type": "code",
   "execution_count": 25,
   "id": "314142b0",
   "metadata": {},
   "outputs": [
    {
     "name": "stdout",
     "output_type": "stream",
     "text": [
      "Sorting with a lambda key\n",
      "['a', 'Alfred', 'Boss', 'Daemon', 'dig', 'fig']\n"
     ]
    }
   ],
   "source": [
    "print (\"Sorting with a lambda key\")\n",
    "print(sorted(words, key=lambda s: s.lower()))"
   ]
  },
  {
   "cell_type": "markdown",
   "id": "770a796a",
   "metadata": {},
   "source": [
    "By default, capital letters are lower than in the number scheme than lowercase letters. But we want all the a's to be first etc. By doing the KEY LAMBDA, you disregard upper and lowercase differences."
   ]
  },
  {
   "cell_type": "code",
   "execution_count": 29,
   "id": "01e20b20",
   "metadata": {},
   "outputs": [
    {
     "name": "stdout",
     "output_type": "stream",
     "text": [
      "Sorting with a method\n",
      "['fig', 'dig', 'Daemon', 'Boss', 'Alfred', 'a']\n"
     ]
    }
   ],
   "source": [
    "print(\"Sorting with a method\")\n",
    "words.sort(key=str.lower, reverse=True)\n",
    "print(words)"
   ]
  },
  {
   "cell_type": "markdown",
   "id": "bac61cbd",
   "metadata": {},
   "source": [
    "### Closures "
   ]
  },
  {
   "cell_type": "code",
   "execution_count": 32,
   "id": "00373277",
   "metadata": {},
   "outputs": [
    {
     "name": "stdout",
     "output_type": "stream",
     "text": [
      "Hello, Kevin\n",
      "Goodbye, Kyle\n"
     ]
    }
   ],
   "source": [
    "def greeter(prefix):\n",
    "    def greet(name):\n",
    "        print(f\"{prefix} {name}\")\n",
    "    return greet\n",
    "\n",
    "hello = greeter(\"Hello,\")\n",
    "goodbye = greeter(\"Goodbye,\")\n",
    "\n",
    "hello(\"Kevin\")\n",
    "goodbye(\"Kyle\")"
   ]
  },
  {
   "cell_type": "markdown",
   "id": "20b543b3",
   "metadata": {},
   "source": [
    "Closures can hold on information that is stored in a variable that is at the higher level - they allow you to encapsulate the variable within them."
   ]
  },
  {
   "cell_type": "markdown",
   "id": "f587f9ee",
   "metadata": {},
   "source": [
    "### HANDS-ON LAB "
   ]
  },
  {
   "cell_type": "markdown",
   "id": "1068ceba",
   "metadata": {},
   "source": [
    "1. Create the `sorted_by_name` List by Sorting the `people` List of Dictionaries"
   ]
  },
  {
   "cell_type": "markdown",
   "id": "70b3c594",
   "metadata": {},
   "source": [
    "Sort the 'people' list of dictionaries alphabetically based on the 'name' key from each dictionary using the 'sorted' function and store the new list as 'sorted_by_name'"
   ]
  },
  {
   "cell_type": "code",
   "execution_count": 67,
   "id": "5b43ea8b",
   "metadata": {},
   "outputs": [
    {
     "name": "stdout",
     "output_type": "stream",
     "text": [
      "[{'name': 'Kevin Bacon', 'age': 61}, {'name': 'Fred Ward', 'age': 77}, {'name': 'finn Carter', 'age': 59}, {'name': 'Ariana Richards', 'age': 40}, {'name': 'Victor Wong', 'age': 74}]\n"
     ]
    }
   ],
   "source": [
    "people = [\n",
    "    {\"name\": \"Kevin Bacon\", \"age\":61},\n",
    "    {\"name\": \"Fred Ward\", \"age\":77},\n",
    "    {\"name\": \"finn Carter\", \"age\":59},\n",
    "    {\"name\": \"Ariana Richards\", \"age\":40},\n",
    "    {\"name\": \"Victor Wong\", \"age\":74}\n",
    "]\n",
    "\n",
    "print(people)"
   ]
  },
  {
   "cell_type": "code",
   "execution_count": 68,
   "id": "a45e662c",
   "metadata": {},
   "outputs": [
    {
     "name": "stdout",
     "output_type": "stream",
     "text": [
      "[{'name': 'Ariana Richards', 'age': 40}, {'name': 'finn Carter', 'age': 59}, {'name': 'Fred Ward', 'age': 77}, {'name': 'Kevin Bacon', 'age': 61}, {'name': 'Victor Wong', 'age': 74}]\n"
     ]
    }
   ],
   "source": [
    "people = [\n",
    "    {\"name\": \"Kevin Bacon\", \"age\":61},\n",
    "    {\"name\": \"Fred Ward\", \"age\":77},\n",
    "    {\"name\": \"finn Carter\", \"age\":59},\n",
    "    {\"name\": \"Ariana Richards\", \"age\":40},\n",
    "    {\"name\": \"Victor Wong\", \"age\":74}\n",
    "]\n",
    "\n",
    "sorted_by_name = sorted(people, key=lambda d: d['name'].lower())\n",
    "\n",
    "print(sorted_by_name)"
   ]
  },
  {
   "cell_type": "markdown",
   "id": "535794ae",
   "metadata": {},
   "source": [
    "2. Create the `name_declarations` List by Mapping Over `sorted_by_name`"
   ]
  },
  {
   "cell_type": "markdown",
   "id": "970db5ba",
   "metadata": {},
   "source": [
    "Use the 'map' function to iterate over 'sorted_by_name' to generate a new list called 'name_declarations' where each value is a string with NAME is AGE years old. Where the NAME and AGE values are from the dictionaries."
   ]
  },
  {
   "cell_type": "code",
   "execution_count": 69,
   "id": "321ab8f4",
   "metadata": {},
   "outputs": [
    {
     "name": "stdout",
     "output_type": "stream",
     "text": [
      "['Ariana Richards is 40 years old', 'finn Carter is 59 years old', 'Fred Ward is 77 years old', 'Kevin Bacon is 61 years old', 'Victor Wong is 74 years old']\n"
     ]
    }
   ],
   "source": [
    "people = [\n",
    "    {\"name\": \"Kevin Bacon\", \"age\":61},\n",
    "    {\"name\": \"Fred Ward\", \"age\":77},\n",
    "    {\"name\": \"finn Carter\", \"age\":59},\n",
    "    {\"name\": \"Ariana Richards\", \"age\":40},\n",
    "    {\"name\": \"Victor Wong\", \"age\":74}\n",
    "]\n",
    "\n",
    "name_declarations = list(\n",
    "    map(lambda d: f\"{d['name']} is {d['age']} years old\", sorted_by_name)\n",
    ")\n",
    "\n",
    "print(name_declarations)"
   ]
  },
  {
   "cell_type": "markdown",
   "id": "c6139793",
   "metadata": {},
   "source": [
    "3. Create the `under_seventy` List by Filtering and Sorting the `sorted_by_name` List"
   ]
  },
  {
   "cell_type": "markdown",
   "id": "88f1d713",
   "metadata": {},
   "source": [
    "Combine the 'filter' and 'sorted' functions to iterate over 'sorted_by_name' to generate a new list called 'under_seventy' that only contains the dictionaries where 'age' key is less than 70, sorting the list by age."
   ]
  },
  {
   "cell_type": "code",
   "execution_count": 77,
   "id": "17d5ea40",
   "metadata": {},
   "outputs": [
    {
     "name": "stdout",
     "output_type": "stream",
     "text": [
      "[{'name': 'Ariana Richards', 'age': 40}, {'name': 'finn Carter', 'age': 59}, {'name': 'Kevin Bacon', 'age': 61}]\n"
     ]
    }
   ],
   "source": [
    "people = [\n",
    "    {\"name\": \"Kevin Bacon\", \"age\":61},\n",
    "    {\"name\": \"Fred Ward\", \"age\":77},\n",
    "    {\"name\": \"finn Carter\", \"age\":59},\n",
    "    {\"name\": \"Ariana Richards\", \"age\":40},\n",
    "    {\"name\": \"Victor Wong\", \"age\":74}\n",
    "]\n",
    "\n",
    "under_seventy = sorted(\n",
    "    filter(lambda d: d['age']<70, sorted_by_name), key=lambda d: d['age']\n",
    ") \n",
    "\n",
    "print(under_seventy)"
   ]
  },
  {
   "cell_type": "markdown",
   "id": "44e666eb",
   "metadata": {},
   "source": [
    "### Conditionals and Expressions "
   ]
  },
  {
   "cell_type": "markdown",
   "id": "2806c5a2",
   "metadata": {},
   "source": [
    "Flattening conditionals down:"
   ]
  },
  {
   "cell_type": "code",
   "execution_count": null,
   "id": "f8f1b965",
   "metadata": {},
   "outputs": [],
   "source": [
    "if CONDITION:\n",
    "    my_var = 1\n",
    "else:\n",
    "    my_var = 2\n",
    "    \n",
    "my_var = 1 if: CONDITION else 2"
   ]
  },
  {
   "cell_type": "markdown",
   "id": "23c8095a",
   "metadata": {},
   "source": [
    "The value on the left hand side will be returned if condition is True and the value on the right-hand side will be returned if condition is False."
   ]
  },
  {
   "cell_type": "code",
   "execution_count": null,
   "id": "88f18d62",
   "metadata": {},
   "outputs": [],
   "source": [
    "print(\"A\") if CONDITION else print(\"B\")"
   ]
  },
  {
   "cell_type": "markdown",
   "id": "a1afa3fe",
   "metadata": {},
   "source": [
    "### HANDS ON LAB"
   ]
  },
  {
   "cell_type": "markdown",
   "id": "870bcf06",
   "metadata": {},
   "source": [
    "1. Call `print` with a Different String Using a Single Conditional Expression"
   ]
  },
  {
   "cell_type": "code",
   "execution_count": 79,
   "id": "5ff803a8",
   "metadata": {},
   "outputs": [
    {
     "name": "stdout",
     "output_type": "stream",
     "text": [
      "What is your first name?Dani\n",
      "Your name is shorter than the average first name in the US\n"
     ]
    }
   ],
   "source": [
    "name = input(\"What is your first name?\")\n",
    "\n",
    "if len(name) >= 6:\n",
    "    print(\"Your name is as long on longer than the average first name in the US\")\n",
    "else:\n",
    "    print(\"Your name is shorter than the average first name in the US\")"
   ]
  },
  {
   "cell_type": "markdown",
   "id": "2eeeeadd",
   "metadata": {},
   "source": [
    "Refactoring..."
   ]
  },
  {
   "cell_type": "code",
   "execution_count": 82,
   "id": "6c714c28",
   "metadata": {},
   "outputs": [
    {
     "name": "stdout",
     "output_type": "stream",
     "text": [
      "What is your first name?Daniella\n",
      "Your name is as long on longer than the average first name in the US\n"
     ]
    }
   ],
   "source": [
    "name = input(\"What is your first name?\")\n",
    "\n",
    "print(\"Your name is as long on longer than the average first name in the US\") if len(name)>=6 else print(\"Your name is shorter than the average first name in the US\")"
   ]
  },
  {
   "cell_type": "markdown",
   "id": "828f06a8",
   "metadata": {},
   "source": [
    "2. Set 'message' using a single conditional expression"
   ]
  },
  {
   "cell_type": "code",
   "execution_count": 83,
   "id": "178b4eb9",
   "metadata": {},
   "outputs": [
    {
     "name": "stdout",
     "output_type": "stream",
     "text": [
      "The first letter of your name is not among the most common\n"
     ]
    }
   ],
   "source": [
    "if name[0].lower() in [\"a\", \"j\", \"m\", \"e\", \"l\"]:\n",
    "    message = \"The first letter in your name is amoung the five most common\"\n",
    "else:\n",
    "    message = \"The first letter of your name is not among the most common\"\n",
    "    \n",
    "print(message)"
   ]
  },
  {
   "cell_type": "markdown",
   "id": "2df675a9",
   "metadata": {},
   "source": [
    "Refactoring..."
   ]
  },
  {
   "cell_type": "code",
   "execution_count": 85,
   "id": "e59d5b64",
   "metadata": {},
   "outputs": [
    {
     "name": "stdout",
     "output_type": "stream",
     "text": [
      "The first letter of your name is not among the most common\n"
     ]
    }
   ],
   "source": [
    "message = (\n",
    "    \"The first letter in your name is amoung the five most common\"\n",
    "    if name[0].lower() in [\"a\", \"j\", \"m\", \"e\", \"l\"]\n",
    "    else \"The first letter of your name is not among the most common\"\n",
    ")\n",
    "\n",
    "print(message)"
   ]
  },
  {
   "cell_type": "markdown",
   "id": "6f64ea61",
   "metadata": {},
   "source": [
    "3. Change the string passed to the 'print' function using a conditional expression"
   ]
  },
  {
   "cell_type": "code",
   "execution_count": 86,
   "id": "6def4f9c",
   "metadata": {},
   "outputs": [
    {
     "name": "stdout",
     "output_type": "stream",
     "text": [
      "D is a consonant\n",
      "a is a vowel\n",
      "n is a consonant\n",
      "i is a vowel\n",
      "e is a vowel\n",
      "l is a consonant\n",
      "l is a consonant\n",
      "a is a vowel\n"
     ]
    }
   ],
   "source": [
    "for letter in name:\n",
    "    if letter.lower() in [\"a\", \"e\", \"i\",\"o\", \"u\"]:\n",
    "        print(f\"{letter} is a vowel\")\n",
    "    else:\n",
    "        print(f\"{letter} is a consonant\")"
   ]
  },
  {
   "cell_type": "code",
   "execution_count": 99,
   "id": "f79e41ea",
   "metadata": {},
   "outputs": [
    {
     "name": "stdout",
     "output_type": "stream",
     "text": [
      "D is a consonant\n",
      "a is a vowel\n",
      "n is a consonant\n",
      "i is a vowel\n",
      "e is a vowel\n",
      "l is a consonant\n",
      "l is a consonant\n",
      "a is a vowel\n"
     ]
    }
   ],
   "source": [
    "for letter in name:\n",
    "    print(\n",
    "        f\"{letter} {'is a vowel' if letter.lower() in ['a','e','i','o','u'] else 'is a consonant'}\"\n",
    "    )"
   ]
  },
  {
   "cell_type": "code",
   "execution_count": null,
   "id": "3be9b5ec",
   "metadata": {},
   "outputs": [],
   "source": []
  }
 ],
 "metadata": {
  "kernelspec": {
   "display_name": "Python 3 (ipykernel)",
   "language": "python",
   "name": "python3"
  },
  "language_info": {
   "codemirror_mode": {
    "name": "ipython",
    "version": 3
   },
   "file_extension": ".py",
   "mimetype": "text/x-python",
   "name": "python",
   "nbconvert_exporter": "python",
   "pygments_lexer": "ipython3",
   "version": "3.9.7"
  }
 },
 "nbformat": 4,
 "nbformat_minor": 5
}

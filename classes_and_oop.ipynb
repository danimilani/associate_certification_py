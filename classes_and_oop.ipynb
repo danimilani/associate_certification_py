{
 "cells": [
  {
   "cell_type": "markdown",
   "id": "0ed8199c",
   "metadata": {},
   "source": [
    "# Classes and Object-Oriented Programming"
   ]
  },
  {
   "cell_type": "markdown",
   "id": "31239d25",
   "metadata": {},
   "source": [
    "## Creating your own objects"
   ]
  },
  {
   "cell_type": "code",
   "execution_count": 9,
   "id": "f9444eaa",
   "metadata": {},
   "outputs": [],
   "source": [
    "class Vehicle:\n",
    "    \"\"\"\n",
    "    Vehicle is a type that describes a machine that helps us travel.\n",
    "    \"\"\"\n",
    "    \n",
    "    def __init__(self, engine, tires):\n",
    "        self.engine =  engine\n",
    "        self.tires = tires\n",
    "        \n",
    "    def description(self):\n",
    "        print(f\"A vehicle with an {self.engine} engine, and {self.tires} tires\")"
   ]
  },
  {
   "cell_type": "code",
   "execution_count": 10,
   "id": "0552395b",
   "metadata": {},
   "outputs": [],
   "source": [
    "civic = Vehicle('4-cylinder',['front-diver', 'front-passenger', 'rear-driver', 'rear-passenger'])"
   ]
  },
  {
   "cell_type": "code",
   "execution_count": 11,
   "id": "06674c48",
   "metadata": {},
   "outputs": [
    {
     "data": {
      "text/plain": [
       "__main__.Vehicle"
      ]
     },
     "execution_count": 11,
     "metadata": {},
     "output_type": "execute_result"
    }
   ],
   "source": [
    "type(civic)"
   ]
  },
  {
   "cell_type": "code",
   "execution_count": 12,
   "id": "fe4e3292",
   "metadata": {},
   "outputs": [
    {
     "ename": "NameError",
     "evalue": "name 'engine' is not defined",
     "output_type": "error",
     "traceback": [
      "\u001b[1;31m---------------------------------------------------------------------------\u001b[0m",
      "\u001b[1;31mNameError\u001b[0m                                 Traceback (most recent call last)",
      "\u001b[1;32m~\\AppData\\Local\\Temp/ipykernel_7468/3701923505.py\u001b[0m in \u001b[0;36m<module>\u001b[1;34m\u001b[0m\n\u001b[1;32m----> 1\u001b[1;33m \u001b[0mengine\u001b[0m\u001b[1;33m\u001b[0m\u001b[1;33m\u001b[0m\u001b[0m\n\u001b[0m",
      "\u001b[1;31mNameError\u001b[0m: name 'engine' is not defined"
     ]
    }
   ],
   "source": [
    "engine"
   ]
  },
  {
   "cell_type": "code",
   "execution_count": 13,
   "id": "82f07bb0",
   "metadata": {},
   "outputs": [
    {
     "data": {
      "text/plain": [
       "'4-cylinder'"
      ]
     },
     "execution_count": 13,
     "metadata": {},
     "output_type": "execute_result"
    }
   ],
   "source": [
    "civic.engine"
   ]
  },
  {
   "cell_type": "markdown",
   "id": "42af1f84",
   "metadata": {},
   "source": [
    "Vehicle is the class or the type.\n",
    "Civic is an instance of the type - which what we're going to interact with most of the time."
   ]
  },
  {
   "cell_type": "code",
   "execution_count": 16,
   "id": "d77ae136",
   "metadata": {},
   "outputs": [
    {
     "data": {
      "text/plain": [
       "<bound method Vehicle.description of <__main__.Vehicle object at 0x000001C2A4571A60>>"
      ]
     },
     "execution_count": 16,
     "metadata": {},
     "output_type": "execute_result"
    }
   ],
   "source": [
    "civic.description #Method attached to a class"
   ]
  },
  {
   "cell_type": "code",
   "execution_count": 17,
   "id": "409c3cbf",
   "metadata": {},
   "outputs": [
    {
     "name": "stdout",
     "output_type": "stream",
     "text": [
      "A vehicle with an 4-cylinder engine, and ['front-diver', 'front-passenger', 'rear-driver', 'rear-passenger'] tires\n"
     ]
    }
   ],
   "source": [
    "civic.description()"
   ]
  },
  {
   "cell_type": "markdown",
   "id": "cd206391",
   "metadata": {},
   "source": [
    "Adding more attributes into an individual instance:"
   ]
  },
  {
   "cell_type": "code",
   "execution_count": 18,
   "id": "16ae16fc",
   "metadata": {},
   "outputs": [],
   "source": [
    "civic.serial_number = \"1234\""
   ]
  },
  {
   "cell_type": "code",
   "execution_count": 19,
   "id": "caee3f14",
   "metadata": {},
   "outputs": [
    {
     "data": {
      "text/plain": [
       "'1234'"
      ]
     },
     "execution_count": 19,
     "metadata": {},
     "output_type": "execute_result"
    }
   ],
   "source": [
    "civic.serial_number"
   ]
  },
  {
   "cell_type": "markdown",
   "id": "8b18604c",
   "metadata": {},
   "source": [
    "Deleting attributes:"
   ]
  },
  {
   "cell_type": "code",
   "execution_count": 20,
   "id": "db4f771c",
   "metadata": {},
   "outputs": [],
   "source": [
    "del civic.serial_number"
   ]
  },
  {
   "cell_type": "code",
   "execution_count": 21,
   "id": "eb1f7f3a",
   "metadata": {},
   "outputs": [
    {
     "data": {
      "text/plain": [
       "<__main__.Vehicle at 0x1c2a4571a60>"
      ]
     },
     "execution_count": 21,
     "metadata": {},
     "output_type": "execute_result"
    }
   ],
   "source": [
    "civic"
   ]
  },
  {
   "cell_type": "code",
   "execution_count": 22,
   "id": "547ca0ea",
   "metadata": {},
   "outputs": [
    {
     "ename": "AttributeError",
     "evalue": "'Vehicle' object has no attribute 'serial_number'",
     "output_type": "error",
     "traceback": [
      "\u001b[1;31m---------------------------------------------------------------------------\u001b[0m",
      "\u001b[1;31mAttributeError\u001b[0m                            Traceback (most recent call last)",
      "\u001b[1;32m~\\AppData\\Local\\Temp/ipykernel_7468/2008460200.py\u001b[0m in \u001b[0;36m<module>\u001b[1;34m\u001b[0m\n\u001b[1;32m----> 1\u001b[1;33m \u001b[0mcivic\u001b[0m\u001b[1;33m.\u001b[0m\u001b[0mserial_number\u001b[0m\u001b[1;33m\u001b[0m\u001b[1;33m\u001b[0m\u001b[0m\n\u001b[0m",
      "\u001b[1;31mAttributeError\u001b[0m: 'Vehicle' object has no attribute 'serial_number'"
     ]
    }
   ],
   "source": [
    "civic.serial_number"
   ]
  },
  {
   "cell_type": "code",
   "execution_count": 23,
   "id": "6a4e481c",
   "metadata": {},
   "outputs": [
    {
     "data": {
      "text/plain": [
       "'4-cylinder'"
      ]
     },
     "execution_count": 23,
     "metadata": {},
     "output_type": "execute_result"
    }
   ],
   "source": [
    "civic.engine"
   ]
  },
  {
   "cell_type": "markdown",
   "id": "19c3caa0",
   "metadata": {},
   "source": [
    "## Custom Constructors, Class Methods, and Decorators"
   ]
  },
  {
   "cell_type": "markdown",
   "id": "9b748184",
   "metadata": {},
   "source": [
    "When we want to hold some information on the class itself we can define a Class Variable:"
   ]
  },
  {
   "cell_type": "code",
   "execution_count": 27,
   "id": "ee4ba243",
   "metadata": {},
   "outputs": [],
   "source": [
    "class Vehicle:\n",
    "    \"\"\"\n",
    "    Vehicle is a type that describes a machine that helps us travel.\n",
    "    \"\"\"\n",
    "    class_variable = \"Keith\"\n",
    "    \n",
    "    def __init__(self, engine, tires):\n",
    "        self.engine =  engine\n",
    "        self.tires = tires\n",
    "        \n",
    "    def description(self):\n",
    "        print(f\"A vehicle with an {self.engine} engine, and {self.tires} tires\")"
   ]
  },
  {
   "cell_type": "markdown",
   "id": "3dc52b23",
   "metadata": {},
   "source": [
    "This would be accessible by Vehicle.class_variable:"
   ]
  },
  {
   "cell_type": "code",
   "execution_count": 29,
   "id": "7080db62",
   "metadata": {},
   "outputs": [
    {
     "data": {
      "text/plain": [
       "'Keith'"
      ]
     },
     "execution_count": 29,
     "metadata": {},
     "output_type": "execute_result"
    }
   ],
   "source": [
    "Vehicle.class_variable"
   ]
  },
  {
   "cell_type": "markdown",
   "id": "fcb13ebd",
   "metadata": {},
   "source": [
    "### Class Methods and Decorators"
   ]
  },
  {
   "cell_type": "markdown",
   "id": "c1673012",
   "metadata": {},
   "source": [
    "Decorators allow us to annotate a function with another function or class that will wrap the function, do extra things and return the function to us.\n",
    "\n",
    "It gives us a way to add extra functionality to a function while still keeping the function simple."
   ]
  },
  {
   "cell_type": "code",
   "execution_count": 30,
   "id": "e38efba1",
   "metadata": {},
   "outputs": [],
   "source": [
    "class Vehicle:\n",
    "    \"\"\"\n",
    "    Vehicle is a type that describes a machine that helps us travel.\n",
    "    \"\"\"\n",
    "    default_tire = 'tire'\n",
    "    \n",
    "    def __init__(self, engine, tires):\n",
    "        self.engine =  engine\n",
    "        self.tires = tires\n",
    "    \n",
    "    @classmethod\n",
    "    def bicycle(cls, tires=None):\n",
    "        if not tires:\n",
    "            tires = [cls.default_tire, cls.default_tire]\n",
    "        return cls(None, tires)\n",
    "        \n",
    "    def description(self):\n",
    "        print(f\"A vehicle with an {self.engine} engine, and {self.tires} tires\")"
   ]
  },
  {
   "cell_type": "markdown",
   "id": "d66d64ac",
   "metadata": {},
   "source": [
    "Classmethod is going to be the decorator and it's going to take in the function BICYCLE and will return a different function that will allow it to be called on the vehicle class.\n",
    "\n",
    "The CLS variable is going to be implicitly passed in as SELF was, bui rather than being an instance of VEHICLE, it is going to be the CLASS of VEHICLE itself."
   ]
  },
  {
   "cell_type": "code",
   "execution_count": 31,
   "id": "77948f04",
   "metadata": {},
   "outputs": [],
   "source": [
    "car = Vehicle('4-cylinder', [1,2,3,4])"
   ]
  },
  {
   "cell_type": "code",
   "execution_count": 32,
   "id": "3b727e21",
   "metadata": {},
   "outputs": [],
   "source": [
    "bike = Vehicle.bicycle()"
   ]
  },
  {
   "cell_type": "code",
   "execution_count": 33,
   "id": "0e2075e5",
   "metadata": {},
   "outputs": [
    {
     "data": {
      "text/plain": [
       "<__main__.Vehicle at 0x1c2a46370a0>"
      ]
     },
     "execution_count": 33,
     "metadata": {},
     "output_type": "execute_result"
    }
   ],
   "source": [
    "bike"
   ]
  },
  {
   "cell_type": "code",
   "execution_count": 34,
   "id": "6a9a378d",
   "metadata": {},
   "outputs": [],
   "source": [
    "bike.engine"
   ]
  },
  {
   "cell_type": "code",
   "execution_count": 35,
   "id": "ba5b7d5d",
   "metadata": {},
   "outputs": [
    {
     "data": {
      "text/plain": [
       "['tire', 'tire']"
      ]
     },
     "execution_count": 35,
     "metadata": {},
     "output_type": "execute_result"
    }
   ],
   "source": [
    "bike.tires"
   ]
  },
  {
   "cell_type": "markdown",
   "id": "553763b8",
   "metadata": {},
   "source": [
    "### Inheritance and Super "
   ]
  },
  {
   "cell_type": "code",
   "execution_count": null,
   "id": "235a26b3",
   "metadata": {},
   "outputs": [],
   "source": [
    "from vehicle import Vehicle\n",
    "\n",
    "class Bicycle(Vehicle):\n",
    "    pass\n",
    "\n",
    "    def__init__(self, tires=None):\n",
    "        if not tires:\n",
    "            tires = [self.default_tire, self.default_tire]\n",
    "        self.tires = tires"
   ]
  },
  {
   "cell_type": "markdown",
   "id": "b2da41c8",
   "metadata": {},
   "source": [
    "SUPER is a special keyword that you will often use. It's actually a class. It gives us the ability to call the pre-existing implementation so that by us defining our own, we're not completely wiping out the previous one:"
   ]
  },
  {
   "cell_type": "code",
   "execution_count": null,
   "id": "a411b2d4",
   "metadata": {},
   "outputs": [],
   "source": [
    "from vehicle import Vehicle\n",
    "\n",
    "class Bicycle(Vehicle):\n",
    "    default_tire = 'tire'\n",
    "\n",
    "    def__init__(self, tires=None, distance_traveled=0, unit='miles'):\n",
    "        super().__init__(distance_traveled, unit)\n",
    "        if not tires:\n",
    "            tires = [self.default_tire, self.default_tire]\n",
    "        self.tires = tires"
   ]
  },
  {
   "cell_type": "markdown",
   "id": "fb9f4ba1",
   "metadata": {},
   "source": [
    "## Single and Multiple Inheritance"
   ]
  },
  {
   "cell_type": "markdown",
   "id": "aa4c16f3",
   "metadata": {},
   "source": [
    "Creating two classes for CAR and BOAT:"
   ]
  },
  {
   "cell_type": "code",
   "execution_count": null,
   "id": "cb292ef9",
   "metadata": {},
   "outputs": [],
   "source": [
    "# file car.py\n",
    "\n",
    "from vehicle import Vehicle\n",
    "\n",
    "class Car(Vehicle):\n",
    "    default_tire = 'tire'\n",
    "    \n",
    "    def __init__(self, engine, tires=None, distance_traveled=0, unit='miles'):\n",
    "        super().__init__(distance_traveled, unit)\n",
    "        if not tires:\n",
    "            tires = (self.default_tire, self.default_tire, self.default_tire, self.sefault_tire)\n",
    "        self.tires = tires\n",
    "        self.engine = engine\n",
    "        \n",
    "    def drive(self, distance):\n",
    "        self.distance_traveled += distance"
   ]
  },
  {
   "cell_type": "code",
   "execution_count": null,
   "id": "6d16b1eb",
   "metadata": {},
   "outputs": [],
   "source": [
    "# file boat.py\n",
    "from vehicle import Vehicle\n",
    "\n",
    "class Boat(Vehicle):\n",
    "    default_tire = 'tire'\n",
    "    \n",
    "    def __init__(self, boat_type='sail', distance_traveled=0, unit='miles'):\n",
    "        super().__init__(distance_traveled, unit)\n",
    "        self.boat_type = boat_type\n",
    "        \n",
    "    def voyage(self, distance):\n",
    "        self.distance_traveled += distance\n",
    "        \n",
    "    def description(self):\n",
    "        initial = super().description()\n",
    "        return f\"{initial} using a {self.boat_type}\""
   ]
  },
  {
   "cell_type": "markdown",
   "id": "84866aec",
   "metadata": {},
   "source": [
    "Creating a class that uses multiple inheritance - amphibious_vehicle.py"
   ]
  },
  {
   "cell_type": "code",
   "execution_count": null,
   "id": "5824f5dc",
   "metadata": {},
   "outputs": [],
   "source": [
    "from boat import Boat\n",
    "from car import Car\n",
    "\n",
    "class AmphibiousVehicle(Car, Boat):\n",
    "    def __init__(self, engine, tires=[], distance_traveled=0, unit='miles'):\n",
    "        super().__init__(engine, tires, distance_traveled, unit)\n",
    "        self.boat_type = 'motor'\n",
    "        \n",
    "    def travel(self, land_distance=0, water_distance=0):\n",
    "        self.voyage(water_distance)\n",
    "        self.drive(land_distance)"
   ]
  },
  {
   "cell_type": "markdown",
   "id": "95d23d96",
   "metadata": {},
   "source": [
    "## Name Mangling"
   ]
  },
  {
   "cell_type": "code",
   "execution_count": 1,
   "id": "cfe39c74",
   "metadata": {},
   "outputs": [],
   "source": [
    "class Mapping:\n",
    "    def __init__(self, iterable):\n",
    "        self.items_list = []\n",
    "        self.__update(iterable)\n",
    "        \n",
    "    def update(self, iterable):\n",
    "        for item in iterable:\n",
    "            self.item_list.append(item)\n",
    "            \n",
    "    __update = update \n",
    "    \n",
    "class MappingSubclass(Mapping):\n",
    "    def update(self, keys, values):\n",
    "        for item in zip(keys, values):\n",
    "            self.item_list.append(item)\n",
    "            "
   ]
  },
  {
   "cell_type": "markdown",
   "id": "0bc94ff2",
   "metadata": {},
   "source": [
    "## Inspecting Objects"
   ]
  },
  {
   "cell_type": "markdown",
   "id": "753a25f7",
   "metadata": {},
   "source": [
    "The 2 main ways we can look at objects are by looking at the information that the class specifies and looking at the information specific to the instance of the class we are working with."
   ]
  },
  {
   "cell_type": "markdown",
   "id": "54e12c62",
   "metadata": {},
   "source": [
    "- If we want to know more about an AmphibiousVehicle as the basic class and the things it inherits from, we could do __bases__ as an Attribute: "
   ]
  },
  {
   "cell_type": "code",
   "execution_count": 2,
   "id": "e694200c",
   "metadata": {},
   "outputs": [],
   "source": [
    "AmphibiousVehicle.__bases__"
   ]
  },
  {
   "cell_type": "markdown",
   "id": "a39eebea",
   "metadata": {},
   "source": [
    "This is going to give us a tuple that is the list of classes that it inherits from:"
   ]
  },
  {
   "cell_type": "code",
   "execution_count": 3,
   "id": "3f444250",
   "metadata": {},
   "outputs": [],
   "source": [
    "# (<class 'car.Car'>, <class 'boat.Boat'>)"
   ]
  },
  {
   "cell_type": "markdown",
   "id": "17a0d311",
   "metadata": {},
   "source": [
    "- You can also ask a base class what its subclasses are:"
   ]
  },
  {
   "cell_type": "code",
   "execution_count": null,
   "id": "8c026059",
   "metadata": {},
   "outputs": [],
   "source": [
    "from vehicle import Vehicle\n",
    "Vehicle.__subclasses__()"
   ]
  },
  {
   "cell_type": "markdown",
   "id": "f8430dad",
   "metadata": {},
   "source": [
    "This is going to give you a list back saying \"these are the two classes that actually inherit from me\":"
   ]
  },
  {
   "cell_type": "code",
   "execution_count": null,
   "id": "9758e091",
   "metadata": {},
   "outputs": [],
   "source": [
    "# (<class 'car.Car'>, <class 'boat.Boat'>)"
   ]
  },
  {
   "cell_type": "markdown",
   "id": "ee714b8c",
   "metadata": {},
   "source": [
    "And it only runs for the ones that have been loaded. If we do from bicycle, for example:"
   ]
  },
  {
   "cell_type": "code",
   "execution_count": null,
   "id": "881599c1",
   "metadata": {},
   "outputs": [],
   "source": [
    "from bicycle import Bicycle\n",
    "Vehicle.__subclasses__()"
   ]
  },
  {
   "cell_type": "markdown",
   "id": "2cb19c4e",
   "metadata": {},
   "source": [
    "It will give you a different list:"
   ]
  },
  {
   "cell_type": "code",
   "execution_count": null,
   "id": "6b523688",
   "metadata": {},
   "outputs": [],
   "source": [
    "# (<class 'boat.Boat'>, <class 'car.Car'>, <class 'bicycle.Bicycle')"
   ]
  },
  {
   "cell_type": "markdown",
   "id": "5151d8e5",
   "metadata": {},
   "source": [
    "- Another way of inspecting a class is by using DIR"
   ]
  },
  {
   "cell_type": "code",
   "execution_count": null,
   "id": "849f6e61",
   "metadata": {},
   "outputs": [],
   "source": [
    "dir(AmphibiousVehicle)"
   ]
  },
  {
   "cell_type": "markdown",
   "id": "af300b14",
   "metadata": {},
   "source": [
    "This will give us the various identifiers that we can chain off of, but it doesn't give you all of them."
   ]
  },
  {
   "cell_type": "code",
   "execution_count": 4,
   "id": "be1094ba",
   "metadata": {},
   "outputs": [],
   "source": [
    "# ['__class__', '_delattr__', '__dict__'] etc etc"
   ]
  },
  {
   "cell_type": "markdown",
   "id": "ce333772",
   "metadata": {},
   "source": [
    "- The hasattr will give you the attributes of something"
   ]
  },
  {
   "cell_type": "markdown",
   "id": "6f8a99e4",
   "metadata": {},
   "source": [
    "- issubclass take two class names that checks if the first item is a subclass of the second one:"
   ]
  },
  {
   "cell_type": "code",
   "execution_count": 5,
   "id": "4bbd58e2",
   "metadata": {},
   "outputs": [],
   "source": [
    "# issubclass(Boat, Vehicle) will return True\n",
    "# issubclass(Boat, AmphibiousVehicle) will return False"
   ]
  },
  {
   "cell_type": "markdown",
   "id": "cb48e424",
   "metadata": {},
   "source": [
    "- isinstance "
   ]
  },
  {
   "cell_type": "code",
   "execution_count": 6,
   "id": "5f978c4a",
   "metadata": {},
   "outputs": [],
   "source": [
    "# isinstance(water_car, Bicycle) will return False\n",
    "# isinstance(water_car, AmphibiousVehicle) will return True"
   ]
  },
  {
   "cell_type": "markdown",
   "id": "c15274e2",
   "metadata": {},
   "source": [
    "- __dict__ attibute gives you a dictionary of useful bits of information - attributes that we assign for an instance."
   ]
  },
  {
   "cell_type": "code",
   "execution_count": 7,
   "id": "48908efd",
   "metadata": {},
   "outputs": [],
   "source": [
    "# water_car.__dict__"
   ]
  },
  {
   "cell_type": "markdown",
   "id": "f5a3b61e",
   "metadata": {},
   "source": [
    "You can also customize how the classes are translated into other representations, specifically strings. The method str can be added to your class:"
   ]
  },
  {
   "cell_type": "code",
   "execution_count": null,
   "id": "ad4488e4",
   "metadata": {},
   "outputs": [],
   "source": [
    "    def __str__(self):\n",
    "        return f\"<{self.__class__.__name__} {self.__dict__}\"\n",
    "\n",
    "if __name__ == \"__main__\":\n",
    "    water_car = AmphibiousVehicle('4 cylinder')\n",
    "    print(water_car)"
   ]
  },
  {
   "cell_type": "markdown",
   "id": "c7c9f397",
   "metadata": {},
   "source": []
  }
 ],
 "metadata": {
  "kernelspec": {
   "display_name": "Python 3 (ipykernel)",
   "language": "python",
   "name": "python3"
  },
  "language_info": {
   "codemirror_mode": {
    "name": "ipython",
    "version": 3
   },
   "file_extension": ".py",
   "mimetype": "text/x-python",
   "name": "python",
   "nbconvert_exporter": "python",
   "pygments_lexer": "ipython3",
   "version": "3.9.7"
  }
 },
 "nbformat": 4,
 "nbformat_minor": 5
}
